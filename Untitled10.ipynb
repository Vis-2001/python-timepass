{
 "cells": [
  {
   "cell_type": "code",
   "execution_count": 1,
   "id": "f7b8332a",
   "metadata": {},
   "outputs": [],
   "source": [
    "import PILTH\n"
   ]
  },
  {
   "cell_type": "code",
   "execution_count": 2,
   "id": "5fb109ca",
   "metadata": {},
   "outputs": [
    {
     "data": {
      "text/plain": [
       "['Get_Next_Task',\n",
       " '__builtins__',\n",
       " '__cached__',\n",
       " '__doc__',\n",
       " '__file__',\n",
       " '__loader__',\n",
       " '__name__',\n",
       " '__package__',\n",
       " '__path__',\n",
       " '__spec__',\n",
       " 'gimmeLinkAndCode']"
      ]
     },
     "execution_count": 2,
     "metadata": {},
     "output_type": "execute_result"
    }
   ],
   "source": [
    "dir(PILTH)"
   ]
  },
  {
   "cell_type": "code",
   "execution_count": 6,
   "id": "0270890e",
   "metadata": {},
   "outputs": [
    {
     "data": {
      "text/plain": [
       "['__builtins__',\n",
       " '__cached__',\n",
       " '__doc__',\n",
       " '__file__',\n",
       " '__loader__',\n",
       " '__name__',\n",
       " '__package__',\n",
       " '__spec__',\n",
       " 'gimmeLinkAndCode',\n",
       " 'pyfiglet']"
      ]
     },
     "execution_count": 6,
     "metadata": {},
     "output_type": "execute_result"
    }
   ],
   "source": [
    "dir(PILTH.Get_Next_Task)\n"
   ]
  },
  {
   "cell_type": "code",
   "execution_count": 7,
   "id": "87cb33f4",
   "metadata": {},
   "outputs": [
    {
     "data": {
      "text/plain": [
       "<function PILTH.Get_Next_Task.gimmeLinkAndCode()>"
      ]
     },
     "execution_count": 7,
     "metadata": {},
     "output_type": "execute_result"
    }
   ],
   "source": [
    "PILTH.gimmeLinkAndCode"
   ]
  },
  {
   "cell_type": "code",
   "execution_count": null,
   "id": "e3426357",
   "metadata": {},
   "outputs": [],
   "source": []
  }
 ],
 "metadata": {
  "kernelspec": {
   "display_name": "Python 3 (ipykernel)",
   "language": "python",
   "name": "python3"
  },
  "language_info": {
   "codemirror_mode": {
    "name": "ipython",
    "version": 3
   },
   "file_extension": ".py",
   "mimetype": "text/x-python",
   "name": "python",
   "nbconvert_exporter": "python",
   "pygments_lexer": "ipython3",
   "version": "3.9.7"
  }
 },
 "nbformat": 4,
 "nbformat_minor": 5
}
