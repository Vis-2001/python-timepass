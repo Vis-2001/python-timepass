{
 "cells": [
  {
   "cell_type": "code",
   "execution_count": 3,
   "id": "3b86d3d2",
   "metadata": {},
   "outputs": [
    {
     "name": "stdout",
     "output_type": "stream",
     "text": [
      "The probability of votes transferring from 'BJP' to 'INC'= 24.57%\n"
     ]
    }
   ],
   "source": [
    "import numpy as np\n",
    "import random as rd\n",
    "\n",
    "party=[\"BJP\",\"INC\",\"AAP\"]\n",
    "voteshift=[[\"BB\",\"BA\",\"BI\"],[\"AB\",\"AA\",\"AI\"],[\"IB\",\"IA\",\"II\"]]\n",
    "voteshare=[[0.70,0.10,0.20],[0.10,0.60,0.30],[0.50,0.10,0.40]]\n",
    "\n",
    "def voting_forecast(votes):\n",
    "    current_party = \"BJP\"\n",
    "    partylist = [current_party]\n",
    "    i = 0\n",
    "    prob = 1\n",
    "    while i != votes:\n",
    "        if current_party == \"BJP\":\n",
    "            change = np.random.choice(voteshift[0],replace=True,p=voteshare[0])\n",
    "            if change == \"BB\":\n",
    "                prob = prob * 0.70\n",
    "                partylist.append(\"BJP\")\n",
    "                pass\n",
    "            elif change == \"BA\":\n",
    "                prob = prob * 0.10\n",
    "                current_party = \"AAP\"\n",
    "                partylist.append(\"AAP\")\n",
    "            else:\n",
    "                prob = prob * 0.20\n",
    "                current_party = \"INC\"\n",
    "                partylist.append(\"INC\")\n",
    "        elif current_party == \"AAP\":\n",
    "            change = np.random.choice(voteshift[1],replace=True,p=voteshare[1])\n",
    "            if change == \"AA\":\n",
    "                prob = prob * 0.60\n",
    "                partylist.append(\"AAP\")\n",
    "                pass\n",
    "            elif change == \"AB\":\n",
    "                prob = prob * 0.10\n",
    "                current_party = \"BJP\"\n",
    "                partylist.append(\"BJP\")\n",
    "            else:\n",
    "                prob = prob * 0.30\n",
    "                current_party = \"INC\"\n",
    "                partylist.append(\"INC\")\n",
    "        elif current_party == \"INC\":\n",
    "            change = np.random.choice(voteshift[2],replace=True,p=voteshare[2])\n",
    "            if change == \"II\":\n",
    "                prob = prob * 0.40\n",
    "                partylist.append(\"INC\")\n",
    "                pass\n",
    "            elif change == \"IB\":\n",
    "                prob = prob * 0.50\n",
    "                current_party = \"BJP\"\n",
    "                partylist.append(\"BJP\")\n",
    "            else:\n",
    "                prob = prob * 0.10\n",
    "                current_party = \"AAP\"\n",
    "                partylist.append(\"AAP\")\n",
    "        i += 1    \n",
    "    return partylist\n",
    "\n",
    "list_vote = []\n",
    "count = 0\n",
    "\n",
    "for iterations in range(1,10000):\n",
    "        list_vote.append(voting_forecast(2))\n",
    "\n",
    "for smaller_list in list_vote:\n",
    "    if(smaller_list[2] == \"INC\"):\n",
    "        count += 1\n",
    "\n",
    "percentage = (count/10000) * 100\n",
    "print(\"The probability of votes transferring from 'BJP' to 'INC'= \" + str(percentage) + \"%\")"
   ]
  },
  {
   "cell_type": "code",
   "execution_count": null,
   "id": "ba2344b7",
   "metadata": {},
   "outputs": [],
   "source": []
  }
 ],
 "metadata": {
  "kernelspec": {
   "display_name": "Python 3 (ipykernel)",
   "language": "python",
   "name": "python3"
  },
  "language_info": {
   "codemirror_mode": {
    "name": "ipython",
    "version": 3
   },
   "file_extension": ".py",
   "mimetype": "text/x-python",
   "name": "python",
   "nbconvert_exporter": "python",
   "pygments_lexer": "ipython3",
   "version": "3.9.7"
  }
 },
 "nbformat": 4,
 "nbformat_minor": 5
}
