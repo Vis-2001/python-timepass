{
 "cells": [
  {
   "cell_type": "code",
   "execution_count": 6,
   "metadata": {},
   "outputs": [
    {
     "name": "stdout",
     "output_type": "stream",
     "text": [
      "        one       two     three\n",
      "a -1.400026  0.499187 -1.637133\n",
      "b       NaN       NaN       NaN\n",
      "c -0.946574  0.247199  1.079604\n",
      "d       NaN       NaN       NaN\n",
      "e  0.873749  0.126714 -1.933195\n",
      "f -0.554106  0.974054 -0.282397\n",
      "g       NaN       NaN       NaN\n",
      "h -0.521322  1.060566 -0.144102\n",
      "a    False\n",
      "b     True\n",
      "c    False\n",
      "d     True\n",
      "e    False\n",
      "f    False\n",
      "g     True\n",
      "h    False\n",
      "Name: one, dtype: bool\n",
      "a     True\n",
      "b    False\n",
      "c     True\n",
      "d    False\n",
      "e     True\n",
      "f     True\n",
      "g    False\n",
      "h     True\n",
      "Name: one, dtype: bool\n",
      "3\n"
     ]
    }
   ],
   "source": [
    "# import the pandas library\n",
    "import pandas as pd\n",
    "import numpy as np\n",
    "\n",
    "df = pd.DataFrame(np.random.randn(5, 3), index=['a', 'c', 'e', 'f',\n",
    "'h'],columns=['one', 'two', 'three'])\n",
    "\n",
    "df = df.reindex(['a', 'b', 'c', 'd', 'e', 'f', 'g', 'h'])\n",
    "\n",
    "print( df)\n",
    "print (df['one'].isnull())\n",
    "print (df['one'].notnull())\n",
    "print (df['one'].isnull().sum())"
   ]
  },
  {
   "cell_type": "code",
   "execution_count": 9,
   "metadata": {},
   "outputs": [
    {
     "data": {
      "text/plain": [
       "one      float64\n",
       "two      float64\n",
       "three    float64\n",
       "dtype: object"
      ]
     },
     "execution_count": 9,
     "metadata": {},
     "output_type": "execute_result"
    }
   ],
   "source": [
    "df.dtypes"
   ]
  },
  {
   "cell_type": "code",
   "execution_count": 4,
   "metadata": {},
   "outputs": [
    {
     "name": "stdout",
     "output_type": "stream",
     "text": [
      "NaN replaced with '0':\n",
      "        one       two     three\n",
      "a  1.239184 -1.454827 -0.286104\n",
      "b  0.000000  0.000000  0.000000\n",
      "c -0.779438  0.411418  0.746480\n",
      "d  0.000000  0.000000  0.000000\n",
      "e -1.799040  1.350684 -0.282046\n",
      "f -0.590477  0.603035  0.254525\n",
      "g  0.000000  0.000000  0.000000\n",
      "h  0.048683  1.159679 -1.306797\n"
     ]
    }
   ],
   "source": [
    "print (\"NaN replaced with '0':\")\n",
    "print( df.fillna(0))"
   ]
  },
  {
   "cell_type": "code",
   "execution_count": 12,
   "metadata": {},
   "outputs": [
    {
     "name": "stdout",
     "output_type": "stream",
     "text": [
      "a   -1.400026\n",
      "b   -1.400026\n",
      "c   -0.946574\n",
      "d   -0.946574\n",
      "e    0.873749\n",
      "f   -0.554106\n",
      "g   -0.554106\n",
      "h   -0.521322\n",
      "Name: one, dtype: float64\n"
     ]
    }
   ],
   "source": [
    "print(df[\"one\"].fillna(method=\"pad\"))"
   ]
  },
  {
   "cell_type": "code",
   "execution_count": 2,
   "metadata": {},
   "outputs": [
    {
     "data": {
      "text/html": [
       "<div>\n",
       "<style scoped>\n",
       "    .dataframe tbody tr th:only-of-type {\n",
       "        vertical-align: middle;\n",
       "    }\n",
       "\n",
       "    .dataframe tbody tr th {\n",
       "        vertical-align: top;\n",
       "    }\n",
       "\n",
       "    .dataframe thead th {\n",
       "        text-align: right;\n",
       "    }\n",
       "</style>\n",
       "<table border=\"1\" class=\"dataframe\">\n",
       "  <thead>\n",
       "    <tr style=\"text-align: right;\">\n",
       "      <th></th>\n",
       "      <th>one</th>\n",
       "      <th>two</th>\n",
       "      <th>three</th>\n",
       "    </tr>\n",
       "  </thead>\n",
       "  <tbody>\n",
       "    <tr>\n",
       "      <th>count</th>\n",
       "      <td>5.000000</td>\n",
       "      <td>5.000000</td>\n",
       "      <td>5.000000</td>\n",
       "    </tr>\n",
       "    <tr>\n",
       "      <th>mean</th>\n",
       "      <td>0.082557</td>\n",
       "      <td>-0.599413</td>\n",
       "      <td>0.378603</td>\n",
       "    </tr>\n",
       "    <tr>\n",
       "      <th>std</th>\n",
       "      <td>1.209313</td>\n",
       "      <td>1.571869</td>\n",
       "      <td>0.946576</td>\n",
       "    </tr>\n",
       "    <tr>\n",
       "      <th>min</th>\n",
       "      <td>-1.351039</td>\n",
       "      <td>-2.936710</td>\n",
       "      <td>-0.924486</td>\n",
       "    </tr>\n",
       "    <tr>\n",
       "      <th>25%</th>\n",
       "      <td>-0.577442</td>\n",
       "      <td>-1.449003</td>\n",
       "      <td>-0.021693</td>\n",
       "    </tr>\n",
       "    <tr>\n",
       "      <th>50%</th>\n",
       "      <td>-0.100643</td>\n",
       "      <td>0.054286</td>\n",
       "      <td>0.242873</td>\n",
       "    </tr>\n",
       "    <tr>\n",
       "      <th>75%</th>\n",
       "      <td>0.615359</td>\n",
       "      <td>0.490429</td>\n",
       "      <td>1.208304</td>\n",
       "    </tr>\n",
       "    <tr>\n",
       "      <th>max</th>\n",
       "      <td>1.826550</td>\n",
       "      <td>0.843934</td>\n",
       "      <td>1.388017</td>\n",
       "    </tr>\n",
       "  </tbody>\n",
       "</table>\n",
       "</div>"
      ],
      "text/plain": [
       "            one       two     three\n",
       "count  5.000000  5.000000  5.000000\n",
       "mean   0.082557 -0.599413  0.378603\n",
       "std    1.209313  1.571869  0.946576\n",
       "min   -1.351039 -2.936710 -0.924486\n",
       "25%   -0.577442 -1.449003 -0.021693\n",
       "50%   -0.100643  0.054286  0.242873\n",
       "75%    0.615359  0.490429  1.208304\n",
       "max    1.826550  0.843934  1.388017"
      ]
     },
     "execution_count": 2,
     "metadata": {},
     "output_type": "execute_result"
    }
   ],
   "source": [
    "df.describe()"
   ]
  },
  {
   "cell_type": "code",
   "execution_count": 5,
   "metadata": {},
   "outputs": [
    {
     "name": "stdout",
     "output_type": "stream",
     "text": [
      "        one       two     three\n",
      "a  1.239184 -1.454827 -0.286104\n",
      "b       NaN       NaN       NaN\n",
      "c -0.779438  0.411418  0.746480\n",
      "d       NaN       NaN       NaN\n",
      "e -1.799040  1.350684 -0.282046\n",
      "f -0.590477  0.603035  0.254525\n",
      "g       NaN       NaN       NaN\n",
      "h  0.048683  1.159679 -1.306797\n",
      "        one       two     three\n",
      "a  1.239184 -1.454827 -0.286104\n",
      "b  1.239184 -1.454827 -0.286104\n",
      "c -0.779438  0.411418  0.746480\n",
      "d -0.779438  0.411418  0.746480\n",
      "e -1.799040  1.350684 -0.282046\n",
      "f -0.590477  0.603035  0.254525\n",
      "g -0.590477  0.603035  0.254525\n",
      "h  0.048683  1.159679 -1.306797\n"
     ]
    }
   ],
   "source": [
    "print(df)\n",
    "print( df.fillna(method='pad'))"
   ]
  },
  {
   "cell_type": "code",
   "execution_count": 6,
   "metadata": {},
   "outputs": [
    {
     "name": "stdout",
     "output_type": "stream",
     "text": [
      "        one       two     three\n",
      "a  1.239184 -1.454827 -0.286104\n",
      "b       NaN       NaN       NaN\n",
      "c -0.779438  0.411418  0.746480\n",
      "d       NaN       NaN       NaN\n",
      "e -1.799040  1.350684 -0.282046\n",
      "f -0.590477  0.603035  0.254525\n",
      "g       NaN       NaN       NaN\n",
      "h  0.048683  1.159679 -1.306797\n",
      "        one       two     three\n",
      "a  1.239184 -1.454827 -0.286104\n",
      "b -0.779438  0.411418  0.746480\n",
      "c -0.779438  0.411418  0.746480\n",
      "d -1.799040  1.350684 -0.282046\n",
      "e -1.799040  1.350684 -0.282046\n",
      "f -0.590477  0.603035  0.254525\n",
      "g  0.048683  1.159679 -1.306797\n",
      "h  0.048683  1.159679 -1.306797\n"
     ]
    }
   ],
   "source": [
    "print(df)\n",
    "print( df.fillna(method='bfill'))"
   ]
  },
  {
   "cell_type": "code",
   "execution_count": 7,
   "metadata": {},
   "outputs": [
    {
     "name": "stdout",
     "output_type": "stream",
     "text": [
      "        one       two     three\n",
      "a  1.239184 -1.454827 -0.286104\n",
      "b       NaN       NaN       NaN\n",
      "c -0.779438  0.411418  0.746480\n",
      "d       NaN       NaN       NaN\n",
      "e -1.799040  1.350684 -0.282046\n",
      "f -0.590477  0.603035  0.254525\n",
      "g       NaN       NaN       NaN\n",
      "h  0.048683  1.159679 -1.306797\n",
      "        one       two     three\n",
      "a  1.239184 -1.454827 -0.286104\n",
      "c -0.779438  0.411418  0.746480\n",
      "e -1.799040  1.350684 -0.282046\n",
      "f -0.590477  0.603035  0.254525\n",
      "h  0.048683  1.159679 -1.306797\n"
     ]
    }
   ],
   "source": [
    "print(df)\n",
    "print( df.dropna())"
   ]
  },
  {
   "cell_type": "code",
   "execution_count": 8,
   "metadata": {},
   "outputs": [
    {
     "name": "stdout",
     "output_type": "stream",
     "text": [
      "        one       two     three\n",
      "a  1.239184 -1.454827 -0.286104\n",
      "b  0.229873 -0.521705  0.230188\n",
      "c -0.779438  0.411418  0.746480\n",
      "d -1.289239  0.881051  0.232217\n",
      "e -1.799040  1.350684 -0.282046\n",
      "f -0.590477  0.603035  0.254525\n",
      "g -0.270897  0.881357 -0.526136\n",
      "h  0.048683  1.159679 -1.306797\n"
     ]
    }
   ],
   "source": [
    "#Interpolation of immediate data before and after it (average is taken)\n",
    "\n",
    "print(df.interpolate())"
   ]
  },
  {
   "cell_type": "code",
   "execution_count": 14,
   "metadata": {},
   "outputs": [],
   "source": [
    "df=pd.read_csv(\"train.csv\")"
   ]
  },
  {
   "cell_type": "code",
   "execution_count": 15,
   "metadata": {},
   "outputs": [],
   "source": [
    "drop=['Gender','Married']\n",
    "df.drop(drop,inplace=True,axis=1)#columns Gender and married are dropped"
   ]
  },
  {
   "cell_type": "code",
   "execution_count": 16,
   "metadata": {},
   "outputs": [
    {
     "data": {
      "text/html": [
       "<div>\n",
       "<style scoped>\n",
       "    .dataframe tbody tr th:only-of-type {\n",
       "        vertical-align: middle;\n",
       "    }\n",
       "\n",
       "    .dataframe tbody tr th {\n",
       "        vertical-align: top;\n",
       "    }\n",
       "\n",
       "    .dataframe thead th {\n",
       "        text-align: right;\n",
       "    }\n",
       "</style>\n",
       "<table border=\"1\" class=\"dataframe\">\n",
       "  <thead>\n",
       "    <tr style=\"text-align: right;\">\n",
       "      <th></th>\n",
       "      <th>Loan_ID</th>\n",
       "      <th>Dependents</th>\n",
       "      <th>Education</th>\n",
       "      <th>Self_Employed</th>\n",
       "      <th>ApplicantIncome</th>\n",
       "      <th>CoapplicantIncome</th>\n",
       "      <th>LoanAmount</th>\n",
       "      <th>Loan_Amount_Term</th>\n",
       "      <th>Credit_History</th>\n",
       "      <th>Property_Area</th>\n",
       "      <th>Loan_Status</th>\n",
       "    </tr>\n",
       "  </thead>\n",
       "  <tbody>\n",
       "    <tr>\n",
       "      <th>0</th>\n",
       "      <td>LP001002</td>\n",
       "      <td>0</td>\n",
       "      <td>Graduate</td>\n",
       "      <td>No</td>\n",
       "      <td>5849</td>\n",
       "      <td>0.0</td>\n",
       "      <td>NaN</td>\n",
       "      <td>360.0</td>\n",
       "      <td>1.0</td>\n",
       "      <td>Urban</td>\n",
       "      <td>Y</td>\n",
       "    </tr>\n",
       "    <tr>\n",
       "      <th>1</th>\n",
       "      <td>LP001003</td>\n",
       "      <td>1</td>\n",
       "      <td>Graduate</td>\n",
       "      <td>No</td>\n",
       "      <td>4583</td>\n",
       "      <td>1508.0</td>\n",
       "      <td>128.0</td>\n",
       "      <td>360.0</td>\n",
       "      <td>1.0</td>\n",
       "      <td>Rural</td>\n",
       "      <td>N</td>\n",
       "    </tr>\n",
       "    <tr>\n",
       "      <th>2</th>\n",
       "      <td>LP001005</td>\n",
       "      <td>0</td>\n",
       "      <td>Graduate</td>\n",
       "      <td>Yes</td>\n",
       "      <td>3000</td>\n",
       "      <td>0.0</td>\n",
       "      <td>66.0</td>\n",
       "      <td>360.0</td>\n",
       "      <td>1.0</td>\n",
       "      <td>Urban</td>\n",
       "      <td>Y</td>\n",
       "    </tr>\n",
       "    <tr>\n",
       "      <th>3</th>\n",
       "      <td>LP001006</td>\n",
       "      <td>0</td>\n",
       "      <td>Not Graduate</td>\n",
       "      <td>No</td>\n",
       "      <td>2583</td>\n",
       "      <td>2358.0</td>\n",
       "      <td>120.0</td>\n",
       "      <td>360.0</td>\n",
       "      <td>1.0</td>\n",
       "      <td>Urban</td>\n",
       "      <td>Y</td>\n",
       "    </tr>\n",
       "    <tr>\n",
       "      <th>4</th>\n",
       "      <td>LP001008</td>\n",
       "      <td>0</td>\n",
       "      <td>Graduate</td>\n",
       "      <td>No</td>\n",
       "      <td>6000</td>\n",
       "      <td>0.0</td>\n",
       "      <td>141.0</td>\n",
       "      <td>360.0</td>\n",
       "      <td>1.0</td>\n",
       "      <td>Urban</td>\n",
       "      <td>Y</td>\n",
       "    </tr>\n",
       "  </tbody>\n",
       "</table>\n",
       "</div>"
      ],
      "text/plain": [
       "    Loan_ID Dependents     Education Self_Employed  ApplicantIncome  \\\n",
       "0  LP001002          0      Graduate            No             5849   \n",
       "1  LP001003          1      Graduate            No             4583   \n",
       "2  LP001005          0      Graduate           Yes             3000   \n",
       "3  LP001006          0  Not Graduate            No             2583   \n",
       "4  LP001008          0      Graduate            No             6000   \n",
       "\n",
       "   CoapplicantIncome  LoanAmount  Loan_Amount_Term  Credit_History  \\\n",
       "0                0.0         NaN             360.0             1.0   \n",
       "1             1508.0       128.0             360.0             1.0   \n",
       "2                0.0        66.0             360.0             1.0   \n",
       "3             2358.0       120.0             360.0             1.0   \n",
       "4                0.0       141.0             360.0             1.0   \n",
       "\n",
       "  Property_Area Loan_Status  \n",
       "0         Urban           Y  \n",
       "1         Rural           N  \n",
       "2         Urban           Y  \n",
       "3         Urban           Y  \n",
       "4         Urban           Y  "
      ]
     },
     "execution_count": 16,
     "metadata": {},
     "output_type": "execute_result"
    }
   ],
   "source": [
    "df.head()"
   ]
  },
  {
   "cell_type": "code",
   "execution_count": null,
   "metadata": {},
   "outputs": [],
   "source": []
  }
 ],
 "metadata": {
  "kernelspec": {
   "display_name": "Python 3",
   "language": "python",
   "name": "python3"
  },
  "language_info": {
   "codemirror_mode": {
    "name": "ipython",
    "version": 3
   },
   "file_extension": ".py",
   "mimetype": "text/x-python",
   "name": "python",
   "nbconvert_exporter": "python",
   "pygments_lexer": "ipython3",
   "version": "3.9.8"
  }
 },
 "nbformat": 4,
 "nbformat_minor": 2
}
