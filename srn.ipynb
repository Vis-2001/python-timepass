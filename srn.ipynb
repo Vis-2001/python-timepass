{
 "cells": [
  {
   "cell_type": "code",
   "execution_count": 63,
   "id": "photographic-halifax",
   "metadata": {},
   "outputs": [],
   "source": [
    "import pandas as pd\n",
    "import numpy as np"
   ]
  },
  {
   "cell_type": "code",
   "execution_count": 64,
   "id": "derived-literacy",
   "metadata": {},
   "outputs": [],
   "source": [
    "df = pd.read_csv(\"47.csv\")"
   ]
  },
  {
   "cell_type": "code",
   "execution_count": 65,
   "id": "civic-spring",
   "metadata": {},
   "outputs": [
    {
     "data": {
      "text/html": [
       "<div>\n",
       "<style scoped>\n",
       "    .dataframe tbody tr th:only-of-type {\n",
       "        vertical-align: middle;\n",
       "    }\n",
       "\n",
       "    .dataframe tbody tr th {\n",
       "        vertical-align: top;\n",
       "    }\n",
       "\n",
       "    .dataframe thead th {\n",
       "        text-align: right;\n",
       "    }\n",
       "</style>\n",
       "<table border=\"1\" class=\"dataframe\">\n",
       "  <thead>\n",
       "    <tr style=\"text-align: right;\">\n",
       "      <th></th>\n",
       "      <th>gender</th>\n",
       "      <th>race</th>\n",
       "      <th>parental level of education</th>\n",
       "      <th>lunch</th>\n",
       "      <th>test preparation course</th>\n",
       "      <th>math score</th>\n",
       "      <th>reading score</th>\n",
       "      <th>writing score</th>\n",
       "    </tr>\n",
       "  </thead>\n",
       "  <tbody>\n",
       "    <tr>\n",
       "      <th>0</th>\n",
       "      <td>female</td>\n",
       "      <td>group B</td>\n",
       "      <td>bachelor's degree</td>\n",
       "      <td>standard</td>\n",
       "      <td>none</td>\n",
       "      <td>179.0</td>\n",
       "      <td>177.0</td>\n",
       "      <td>182.0</td>\n",
       "    </tr>\n",
       "    <tr>\n",
       "      <th>1</th>\n",
       "      <td>female</td>\n",
       "      <td>group A</td>\n",
       "      <td>master's degree</td>\n",
       "      <td>free/reduced</td>\n",
       "      <td>none</td>\n",
       "      <td>176.0</td>\n",
       "      <td>195.0</td>\n",
       "      <td>196.0</td>\n",
       "    </tr>\n",
       "    <tr>\n",
       "      <th>2</th>\n",
       "      <td>male</td>\n",
       "      <td>group B</td>\n",
       "      <td>master's degree</td>\n",
       "      <td>free/reduced</td>\n",
       "      <td>none</td>\n",
       "      <td>197.0</td>\n",
       "      <td>195.0</td>\n",
       "      <td>193.0</td>\n",
       "    </tr>\n",
       "    <tr>\n",
       "      <th>3</th>\n",
       "      <td>male</td>\n",
       "      <td>group B</td>\n",
       "      <td>bachelor's degree</td>\n",
       "      <td>free/reduced</td>\n",
       "      <td>none</td>\n",
       "      <td>154.0</td>\n",
       "      <td>162.0</td>\n",
       "      <td>152.0</td>\n",
       "    </tr>\n",
       "    <tr>\n",
       "      <th>4</th>\n",
       "      <td>male</td>\n",
       "      <td>group E</td>\n",
       "      <td>some high school</td>\n",
       "      <td>free/reduced</td>\n",
       "      <td>none</td>\n",
       "      <td>199.0</td>\n",
       "      <td>183.0</td>\n",
       "      <td>183.0</td>\n",
       "    </tr>\n",
       "    <tr>\n",
       "      <th>5</th>\n",
       "      <td>male</td>\n",
       "      <td>group C</td>\n",
       "      <td>associate's degree</td>\n",
       "      <td>free/reduced</td>\n",
       "      <td>none</td>\n",
       "      <td>178.0</td>\n",
       "      <td>188.0</td>\n",
       "      <td>186.0</td>\n",
       "    </tr>\n",
       "    <tr>\n",
       "      <th>6</th>\n",
       "      <td>female</td>\n",
       "      <td>group E</td>\n",
       "      <td>associate's degree</td>\n",
       "      <td>free/reduced</td>\n",
       "      <td>completed</td>\n",
       "      <td>195.0</td>\n",
       "      <td>195.0</td>\n",
       "      <td>200.0</td>\n",
       "    </tr>\n",
       "    <tr>\n",
       "      <th>7</th>\n",
       "      <td>female</td>\n",
       "      <td>group B</td>\n",
       "      <td>bachelor's degree</td>\n",
       "      <td>free/reduced</td>\n",
       "      <td>none</td>\n",
       "      <td>147.0</td>\n",
       "      <td>148.0</td>\n",
       "      <td>115.0</td>\n",
       "    </tr>\n",
       "    <tr>\n",
       "      <th>8</th>\n",
       "      <td>female</td>\n",
       "      <td>group E</td>\n",
       "      <td>associate's degree</td>\n",
       "      <td>free/reduced</td>\n",
       "      <td>none</td>\n",
       "      <td>171.0</td>\n",
       "      <td>169.0</td>\n",
       "      <td>120.0</td>\n",
       "    </tr>\n",
       "    <tr>\n",
       "      <th>9</th>\n",
       "      <td>male</td>\n",
       "      <td>group E</td>\n",
       "      <td>bachelor's degree</td>\n",
       "      <td>free/reduced</td>\n",
       "      <td>completed</td>\n",
       "      <td>184.0</td>\n",
       "      <td>165.0</td>\n",
       "      <td>158.0</td>\n",
       "    </tr>\n",
       "  </tbody>\n",
       "</table>\n",
       "</div>"
      ],
      "text/plain": [
       "   gender     race parental level of education         lunch  \\\n",
       "0  female  group B           bachelor's degree      standard   \n",
       "1  female  group A             master's degree  free/reduced   \n",
       "2    male  group B             master's degree  free/reduced   \n",
       "3    male  group B           bachelor's degree  free/reduced   \n",
       "4    male  group E            some high school  free/reduced   \n",
       "5    male  group C          associate's degree  free/reduced   \n",
       "6  female  group E          associate's degree  free/reduced   \n",
       "7  female  group B           bachelor's degree  free/reduced   \n",
       "8  female  group E          associate's degree  free/reduced   \n",
       "9    male  group E           bachelor's degree  free/reduced   \n",
       "\n",
       "  test preparation course  math score  reading score  writing score  \n",
       "0                    none       179.0          177.0          182.0  \n",
       "1                    none       176.0          195.0          196.0  \n",
       "2                    none       197.0          195.0          193.0  \n",
       "3                    none       154.0          162.0          152.0  \n",
       "4                    none       199.0          183.0          183.0  \n",
       "5                    none       178.0          188.0          186.0  \n",
       "6               completed       195.0          195.0          200.0  \n",
       "7                    none       147.0          148.0          115.0  \n",
       "8                    none       171.0          169.0          120.0  \n",
       "9               completed       184.0          165.0          158.0  "
      ]
     },
     "execution_count": 65,
     "metadata": {},
     "output_type": "execute_result"
    }
   ],
   "source": [
    "df.head(10)"
   ]
  },
  {
   "cell_type": "code",
   "execution_count": 66,
   "id": "simple-iraqi",
   "metadata": {},
   "outputs": [
    {
     "data": {
      "text/plain": [
       "count    997.000000\n",
       "mean     171.002006\n",
       "std       17.668466\n",
       "min      100.000000\n",
       "25%      161.000000\n",
       "50%      172.000000\n",
       "75%      183.000000\n",
       "max      200.000000\n",
       "Name: math score, dtype: float64"
      ]
     },
     "execution_count": 66,
     "metadata": {},
     "output_type": "execute_result"
    }
   ],
   "source": [
    "df['math score'].describe()"
   ]
  },
  {
   "cell_type": "code",
   "execution_count": 67,
   "id": "confused-witness",
   "metadata": {},
   "outputs": [
    {
     "data": {
      "text/html": [
       "<div>\n",
       "<style scoped>\n",
       "    .dataframe tbody tr th:only-of-type {\n",
       "        vertical-align: middle;\n",
       "    }\n",
       "\n",
       "    .dataframe tbody tr th {\n",
       "        vertical-align: top;\n",
       "    }\n",
       "\n",
       "    .dataframe thead th {\n",
       "        text-align: right;\n",
       "    }\n",
       "</style>\n",
       "<table border=\"1\" class=\"dataframe\">\n",
       "  <thead>\n",
       "    <tr style=\"text-align: right;\">\n",
       "      <th></th>\n",
       "      <th>math score</th>\n",
       "      <th>reading score</th>\n",
       "      <th>writing score</th>\n",
       "    </tr>\n",
       "  </thead>\n",
       "  <tbody>\n",
       "    <tr>\n",
       "      <th>count</th>\n",
       "      <td>997.000000</td>\n",
       "      <td>1000.000000</td>\n",
       "      <td>996.000000</td>\n",
       "    </tr>\n",
       "    <tr>\n",
       "      <th>mean</th>\n",
       "      <td>171.002006</td>\n",
       "      <td>172.398000</td>\n",
       "      <td>173.106426</td>\n",
       "    </tr>\n",
       "    <tr>\n",
       "      <th>std</th>\n",
       "      <td>17.668466</td>\n",
       "      <td>17.314369</td>\n",
       "      <td>18.113176</td>\n",
       "    </tr>\n",
       "    <tr>\n",
       "      <th>min</th>\n",
       "      <td>100.000000</td>\n",
       "      <td>103.000000</td>\n",
       "      <td>101.000000</td>\n",
       "    </tr>\n",
       "    <tr>\n",
       "      <th>25%</th>\n",
       "      <td>161.000000</td>\n",
       "      <td>163.000000</td>\n",
       "      <td>163.000000</td>\n",
       "    </tr>\n",
       "    <tr>\n",
       "      <th>50%</th>\n",
       "      <td>172.000000</td>\n",
       "      <td>175.000000</td>\n",
       "      <td>176.000000</td>\n",
       "    </tr>\n",
       "    <tr>\n",
       "      <th>75%</th>\n",
       "      <td>183.000000</td>\n",
       "      <td>184.000000</td>\n",
       "      <td>186.000000</td>\n",
       "    </tr>\n",
       "    <tr>\n",
       "      <th>max</th>\n",
       "      <td>200.000000</td>\n",
       "      <td>200.000000</td>\n",
       "      <td>200.000000</td>\n",
       "    </tr>\n",
       "  </tbody>\n",
       "</table>\n",
       "</div>"
      ],
      "text/plain": [
       "       math score  reading score  writing score\n",
       "count  997.000000    1000.000000     996.000000\n",
       "mean   171.002006     172.398000     173.106426\n",
       "std     17.668466      17.314369      18.113176\n",
       "min    100.000000     103.000000     101.000000\n",
       "25%    161.000000     163.000000     163.000000\n",
       "50%    172.000000     175.000000     176.000000\n",
       "75%    183.000000     184.000000     186.000000\n",
       "max    200.000000     200.000000     200.000000"
      ]
     },
     "execution_count": 67,
     "metadata": {},
     "output_type": "execute_result"
    }
   ],
   "source": [
    "df.describe()"
   ]
  },
  {
   "cell_type": "code",
   "execution_count": 68,
   "id": "fuzzy-priest",
   "metadata": {},
   "outputs": [
    {
     "data": {
      "text/plain": [
       "gender                          object\n",
       "race                            object\n",
       "parental level of education     object\n",
       "lunch                           object\n",
       "test preparation course         object\n",
       "math score                     float64\n",
       "reading score                  float64\n",
       "writing score                  float64\n",
       "dtype: object"
      ]
     },
     "execution_count": 68,
     "metadata": {},
     "output_type": "execute_result"
    }
   ],
   "source": [
    "df.dtypes"
   ]
  },
  {
   "cell_type": "code",
   "execution_count": 69,
   "id": "innocent-meeting",
   "metadata": {},
   "outputs": [
    {
     "data": {
      "text/html": [
       "<div>\n",
       "<style scoped>\n",
       "    .dataframe tbody tr th:only-of-type {\n",
       "        vertical-align: middle;\n",
       "    }\n",
       "\n",
       "    .dataframe tbody tr th {\n",
       "        vertical-align: top;\n",
       "    }\n",
       "\n",
       "    .dataframe thead th {\n",
       "        text-align: right;\n",
       "    }\n",
       "</style>\n",
       "<table border=\"1\" class=\"dataframe\">\n",
       "  <thead>\n",
       "    <tr style=\"text-align: right;\">\n",
       "      <th></th>\n",
       "      <th>math score</th>\n",
       "      <th>reading score</th>\n",
       "      <th>writing score</th>\n",
       "      <th>percentage</th>\n",
       "    </tr>\n",
       "  </thead>\n",
       "  <tbody>\n",
       "    <tr>\n",
       "      <th>count</th>\n",
       "      <td>997.000000</td>\n",
       "      <td>1000.000000</td>\n",
       "      <td>996.000000</td>\n",
       "      <td>994.000000</td>\n",
       "    </tr>\n",
       "    <tr>\n",
       "      <th>mean</th>\n",
       "      <td>171.002006</td>\n",
       "      <td>172.398000</td>\n",
       "      <td>173.106426</td>\n",
       "      <td>72.197518</td>\n",
       "    </tr>\n",
       "    <tr>\n",
       "      <th>std</th>\n",
       "      <td>17.668466</td>\n",
       "      <td>17.314369</td>\n",
       "      <td>18.113176</td>\n",
       "      <td>14.364117</td>\n",
       "    </tr>\n",
       "    <tr>\n",
       "      <th>min</th>\n",
       "      <td>100.000000</td>\n",
       "      <td>103.000000</td>\n",
       "      <td>101.000000</td>\n",
       "      <td>15.666667</td>\n",
       "    </tr>\n",
       "    <tr>\n",
       "      <th>25%</th>\n",
       "      <td>161.000000</td>\n",
       "      <td>163.000000</td>\n",
       "      <td>163.000000</td>\n",
       "      <td>62.333333</td>\n",
       "    </tr>\n",
       "    <tr>\n",
       "      <th>50%</th>\n",
       "      <td>172.000000</td>\n",
       "      <td>175.000000</td>\n",
       "      <td>176.000000</td>\n",
       "      <td>73.500000</td>\n",
       "    </tr>\n",
       "    <tr>\n",
       "      <th>75%</th>\n",
       "      <td>183.000000</td>\n",
       "      <td>184.000000</td>\n",
       "      <td>186.000000</td>\n",
       "      <td>82.583333</td>\n",
       "    </tr>\n",
       "    <tr>\n",
       "      <th>max</th>\n",
       "      <td>200.000000</td>\n",
       "      <td>200.000000</td>\n",
       "      <td>200.000000</td>\n",
       "      <td>100.000000</td>\n",
       "    </tr>\n",
       "  </tbody>\n",
       "</table>\n",
       "</div>"
      ],
      "text/plain": [
       "       math score  reading score  writing score  percentage\n",
       "count  997.000000    1000.000000     996.000000  994.000000\n",
       "mean   171.002006     172.398000     173.106426   72.197518\n",
       "std     17.668466      17.314369      18.113176   14.364117\n",
       "min    100.000000     103.000000     101.000000   15.666667\n",
       "25%    161.000000     163.000000     163.000000   62.333333\n",
       "50%    172.000000     175.000000     176.000000   73.500000\n",
       "75%    183.000000     184.000000     186.000000   82.583333\n",
       "max    200.000000     200.000000     200.000000  100.000000"
      ]
     },
     "execution_count": 69,
     "metadata": {},
     "output_type": "execute_result"
    }
   ],
   "source": [
    "df['percentage']=(df['math score']+df['reading score']+df['writing score'])/3 -100\n",
    "df.describe()"
   ]
  },
  {
   "cell_type": "code",
   "execution_count": 70,
   "id": "eight-general",
   "metadata": {},
   "outputs": [
    {
     "name": "stdout",
     "output_type": "stream",
     "text": [
      "False    1000\n",
      "Name: gender, dtype: int64\n",
      "False    1000\n",
      "Name: race, dtype: int64\n",
      "False    994\n",
      "True       6\n",
      "Name: parental level of education, dtype: int64\n",
      "False    1000\n",
      "Name: lunch, dtype: int64\n",
      "False    1000\n",
      "Name: test preparation course, dtype: int64\n"
     ]
    }
   ],
   "source": [
    "print(df['gender'].isnull().value_counts())\n",
    "print(df['race'].isnull().value_counts())\n",
    "print(df['parental level of education'].isnull().value_counts())\n",
    "print(df['lunch'].isnull().value_counts())\n",
    "print(df['test preparation course'].isnull().value_counts())"
   ]
  },
  {
   "cell_type": "code",
   "execution_count": 71,
   "id": "competitive-edgar",
   "metadata": {},
   "outputs": [
    {
     "data": {
      "text/plain": [
       "gender                         False\n",
       "race                           False\n",
       "parental level of education     True\n",
       "lunch                          False\n",
       "test preparation course        False\n",
       "math score                      True\n",
       "reading score                  False\n",
       "writing score                   True\n",
       "percentage                      True\n",
       "dtype: bool"
      ]
     },
     "execution_count": 71,
     "metadata": {},
     "output_type": "execute_result"
    }
   ],
   "source": [
    "nan=df.isna()\n",
    "nanc=nan.any()\n",
    "nanc"
   ]
  },
  {
   "cell_type": "code",
   "execution_count": 72,
   "id": "boring-responsibility",
   "metadata": {},
   "outputs": [],
   "source": [
    "\n",
    "df=df.dropna(subset=['parental level of education'])\n"
   ]
  },
  {
   "cell_type": "code",
   "execution_count": 73,
   "id": "individual-result",
   "metadata": {},
   "outputs": [
    {
     "data": {
      "text/plain": [
       "gender                         False\n",
       "race                           False\n",
       "parental level of education    False\n",
       "lunch                          False\n",
       "test preparation course        False\n",
       "math score                      True\n",
       "reading score                  False\n",
       "writing score                   True\n",
       "percentage                      True\n",
       "dtype: bool"
      ]
     },
     "execution_count": 73,
     "metadata": {},
     "output_type": "execute_result"
    }
   ],
   "source": [
    "nan=df.isna()\n",
    "nanc=nan.any()\n",
    "nanc"
   ]
  },
  {
   "cell_type": "code",
   "execution_count": 77,
   "id": "humanitarian-avatar",
   "metadata": {},
   "outputs": [
    {
     "data": {
      "text/plain": [
       "0"
      ]
     },
     "execution_count": 77,
     "metadata": {},
     "output_type": "execute_result"
    }
   ],
   "source": [
    "df['math score'].fillna(df['math score'].mean(),inplace=True)\n",
    "df['writing score'].fillna(df['writing score'].mean(),inplace=True)\n",
    "df['percentage'].fillna(df['percentage'].mean(),inplace=True)\n",
    "df['math score'].isnull().sum()"
   ]
  },
  {
   "cell_type": "code",
   "execution_count": 43,
   "id": "demanding-anchor",
   "metadata": {},
   "outputs": [],
   "source": [
    "import matplotlib.pyplot as plt"
   ]
  },
  {
   "cell_type": "code",
   "execution_count": 78,
   "id": "boring-remove",
   "metadata": {},
   "outputs": [
    {
     "data": {
      "image/png": "[encoded data removed]",
      "text/plain": [
       "<Figure size 432x288 with 1 Axes>"
      ]
     },
     "metadata": {
      "needs_background": "light"
     },
     "output_type": "display_data"
    }
   ],
   "source": [
    "df['reading score'].hist(histtype='stepfilled', color='red')\n",
    "plt.xlabel('Score')\n",
    "plt.ylabel('Frequency')\n",
    "plt.title('Reading Score Histogram')\n",
    "plt.show()"
   ]
  },
  {
   "cell_type": "markdown",
   "id": "protective-approach",
   "metadata": {},
   "source": [
    "# this plot shows that the data is left skewed and follows normal distribution\n",
    "#"
   ]
  },
  {
   "cell_type": "code",
   "execution_count": 91,
   "id": "dressed-filing",
   "metadata": {},
   "outputs": [],
   "source": [
    "grade=list()\n",
    "for i in df['percentage']:\n",
    "    if(i>90):\n",
    "        grade.append('S')\n",
    "    elif(i>80 and i<=90):\n",
    "        grade.append('A')\n",
    "    elif(i>70 and i<=80):\n",
    "        grade.append('B')\n",
    "    elif(i>60 and i<=70):\n",
    "        grade.append('C')\n",
    "    elif(i>40 and i<=60):\n",
    "        grade.append('D')\n",
    "    else:\n",
    "        grade.append('F')"
   ]
  },
  {
   "cell_type": "code",
   "execution_count": 93,
   "id": "dressed-velvet",
   "metadata": {},
   "outputs": [],
   "source": [
    "grade\n",
    "df['grade']=grade"
   ]
  },
  {
   "cell_type": "code",
   "execution_count": 94,
   "id": "parallel-tunisia",
   "metadata": {},
   "outputs": [
    {
     "data": {
      "text/html": [
       "<div>\n",
       "<style scoped>\n",
       "    .dataframe tbody tr th:only-of-type {\n",
       "        vertical-align: middle;\n",
       "    }\n",
       "\n",
       "    .dataframe tbody tr th {\n",
       "        vertical-align: top;\n",
       "    }\n",
       "\n",
       "    .dataframe thead th {\n",
       "        text-align: right;\n",
       "    }\n",
       "</style>\n",
       "<table border=\"1\" class=\"dataframe\">\n",
       "  <thead>\n",
       "    <tr style=\"text-align: right;\">\n",
       "      <th></th>\n",
       "      <th>gender</th>\n",
       "      <th>race</th>\n",
       "      <th>parental level of education</th>\n",
       "      <th>lunch</th>\n",
       "      <th>test preparation course</th>\n",
       "      <th>math score</th>\n",
       "      <th>reading score</th>\n",
       "      <th>writing score</th>\n",
       "      <th>percentage</th>\n",
       "      <th>grade</th>\n",
       "    </tr>\n",
       "  </thead>\n",
       "  <tbody>\n",
       "    <tr>\n",
       "      <th>0</th>\n",
       "      <td>female</td>\n",
       "      <td>group B</td>\n",
       "      <td>bachelor's degree</td>\n",
       "      <td>standard</td>\n",
       "      <td>none</td>\n",
       "      <td>179.0</td>\n",
       "      <td>177.0</td>\n",
       "      <td>182.0</td>\n",
       "      <td>79.333333</td>\n",
       "      <td>B</td>\n",
       "    </tr>\n",
       "    <tr>\n",
       "      <th>1</th>\n",
       "      <td>female</td>\n",
       "      <td>group A</td>\n",
       "      <td>master's degree</td>\n",
       "      <td>free/reduced</td>\n",
       "      <td>none</td>\n",
       "      <td>176.0</td>\n",
       "      <td>195.0</td>\n",
       "      <td>196.0</td>\n",
       "      <td>89.000000</td>\n",
       "      <td>A</td>\n",
       "    </tr>\n",
       "    <tr>\n",
       "      <th>2</th>\n",
       "      <td>male</td>\n",
       "      <td>group B</td>\n",
       "      <td>master's degree</td>\n",
       "      <td>free/reduced</td>\n",
       "      <td>none</td>\n",
       "      <td>197.0</td>\n",
       "      <td>195.0</td>\n",
       "      <td>193.0</td>\n",
       "      <td>95.000000</td>\n",
       "      <td>S</td>\n",
       "    </tr>\n",
       "    <tr>\n",
       "      <th>3</th>\n",
       "      <td>male</td>\n",
       "      <td>group B</td>\n",
       "      <td>bachelor's degree</td>\n",
       "      <td>free/reduced</td>\n",
       "      <td>none</td>\n",
       "      <td>154.0</td>\n",
       "      <td>162.0</td>\n",
       "      <td>152.0</td>\n",
       "      <td>56.000000</td>\n",
       "      <td>D</td>\n",
       "    </tr>\n",
       "    <tr>\n",
       "      <th>4</th>\n",
       "      <td>male</td>\n",
       "      <td>group E</td>\n",
       "      <td>some high school</td>\n",
       "      <td>free/reduced</td>\n",
       "      <td>none</td>\n",
       "      <td>199.0</td>\n",
       "      <td>183.0</td>\n",
       "      <td>183.0</td>\n",
       "      <td>88.333333</td>\n",
       "      <td>A</td>\n",
       "    </tr>\n",
       "    <tr>\n",
       "      <th>...</th>\n",
       "      <td>...</td>\n",
       "      <td>...</td>\n",
       "      <td>...</td>\n",
       "      <td>...</td>\n",
       "      <td>...</td>\n",
       "      <td>...</td>\n",
       "      <td>...</td>\n",
       "      <td>...</td>\n",
       "      <td>...</td>\n",
       "      <td>...</td>\n",
       "    </tr>\n",
       "    <tr>\n",
       "      <th>995</th>\n",
       "      <td>female</td>\n",
       "      <td>group E</td>\n",
       "      <td>bachelor's degree</td>\n",
       "      <td>free/reduced</td>\n",
       "      <td>none</td>\n",
       "      <td>195.0</td>\n",
       "      <td>199.0</td>\n",
       "      <td>129.0</td>\n",
       "      <td>74.333333</td>\n",
       "      <td>B</td>\n",
       "    </tr>\n",
       "    <tr>\n",
       "      <th>996</th>\n",
       "      <td>female</td>\n",
       "      <td>group B</td>\n",
       "      <td>high school</td>\n",
       "      <td>standard</td>\n",
       "      <td>completed</td>\n",
       "      <td>138.0</td>\n",
       "      <td>143.0</td>\n",
       "      <td>163.0</td>\n",
       "      <td>48.000000</td>\n",
       "      <td>D</td>\n",
       "    </tr>\n",
       "    <tr>\n",
       "      <th>997</th>\n",
       "      <td>female</td>\n",
       "      <td>group A</td>\n",
       "      <td>associate's degree</td>\n",
       "      <td>free/reduced</td>\n",
       "      <td>none</td>\n",
       "      <td>166.0</td>\n",
       "      <td>176.0</td>\n",
       "      <td>173.0</td>\n",
       "      <td>71.666667</td>\n",
       "      <td>B</td>\n",
       "    </tr>\n",
       "    <tr>\n",
       "      <th>998</th>\n",
       "      <td>male</td>\n",
       "      <td>group E</td>\n",
       "      <td>high school</td>\n",
       "      <td>free/reduced</td>\n",
       "      <td>completed</td>\n",
       "      <td>175.0</td>\n",
       "      <td>183.0</td>\n",
       "      <td>185.0</td>\n",
       "      <td>81.000000</td>\n",
       "      <td>A</td>\n",
       "    </tr>\n",
       "    <tr>\n",
       "      <th>999</th>\n",
       "      <td>male</td>\n",
       "      <td>group E</td>\n",
       "      <td>associate's degree</td>\n",
       "      <td>standard</td>\n",
       "      <td>none</td>\n",
       "      <td>184.0</td>\n",
       "      <td>191.0</td>\n",
       "      <td>135.0</td>\n",
       "      <td>70.000000</td>\n",
       "      <td>C</td>\n",
       "    </tr>\n",
       "  </tbody>\n",
       "</table>\n",
       "<p>994 rows × 10 columns</p>\n",
       "</div>"
      ],
      "text/plain": [
       "     gender     race parental level of education         lunch  \\\n",
       "0    female  group B           bachelor's degree      standard   \n",
       "1    female  group A             master's degree  free/reduced   \n",
       "2      male  group B             master's degree  free/reduced   \n",
       "3      male  group B           bachelor's degree  free/reduced   \n",
       "4      male  group E            some high school  free/reduced   \n",
       "..      ...      ...                         ...           ...   \n",
       "995  female  group E           bachelor's degree  free/reduced   \n",
       "996  female  group B                 high school      standard   \n",
       "997  female  group A          associate's degree  free/reduced   \n",
       "998    male  group E                 high school  free/reduced   \n",
       "999    male  group E          associate's degree      standard   \n",
       "\n",
       "    test preparation course  math score  reading score  writing score  \\\n",
       "0                      none       179.0          177.0          182.0   \n",
       "1                      none       176.0          195.0          196.0   \n",
       "2                      none       197.0          195.0          193.0   \n",
       "3                      none       154.0          162.0          152.0   \n",
       "4                      none       199.0          183.0          183.0   \n",
       "..                      ...         ...            ...            ...   \n",
       "995                    none       195.0          199.0          129.0   \n",
       "996               completed       138.0          143.0          163.0   \n",
       "997                    none       166.0          176.0          173.0   \n",
       "998               completed       175.0          183.0          185.0   \n",
       "999                    none       184.0          191.0          135.0   \n",
       "\n",
       "     percentage grade  \n",
       "0     79.333333     B  \n",
       "1     89.000000     A  \n",
       "2     95.000000     S  \n",
       "3     56.000000     D  \n",
       "4     88.333333     A  \n",
       "..          ...   ...  \n",
       "995   74.333333     B  \n",
       "996   48.000000     D  \n",
       "997   71.666667     B  \n",
       "998   81.000000     A  \n",
       "999   70.000000     C  \n",
       "\n",
       "[994 rows x 10 columns]"
      ]
     },
     "execution_count": 94,
     "metadata": {},
     "output_type": "execute_result"
    }
   ],
   "source": [
    "df\n"
   ]
  },
  {
   "cell_type": "code",
   "execution_count": 95,
   "id": "classified-russia",
   "metadata": {},
   "outputs": [
    {
     "data": {
      "text/plain": [
       "associate's degree    520\n",
       "high school           151\n",
       "bachelor's degree     151\n",
       "some high school       98\n",
       "master's degree        45\n",
       "some college           29\n",
       "Name: parental level of education, dtype: int64"
      ]
     },
     "execution_count": 95,
     "metadata": {},
     "output_type": "execute_result"
    }
   ],
   "source": [
    "df['parental level of education'].value_counts()"
   ]
  },
  {
   "cell_type": "code",
   "execution_count": null,
   "id": "proper-silver",
   "metadata": {},
   "outputs": [],
   "source": [
    "#Grouped Bar Chart\n",
    "x = [1, 2, 3, 4]\n",
    "men = [4, 3, 8, 5]\n",
    "women = [2, 5, 9, 10]\n",
    "labels = ['athletics', 'aquatics', 'hockey', 'tennis']\n",
    "\n",
    "# create plot\n",
    "fig, ax = plt.subplots()\n",
    "index = np.arange(n_groups)\n",
    "bar_width = 0.35\n",
    "opacity = 0.8\n",
    "\n",
    "rects1 = plt.bar(index,men, bar_width,\n",
    "alpha=opacity,\n",
    "color='b',\n",
    "label='Men')\n",
    "\n",
    "rects2 = plt.bar(index + bar_width, women, bar_width,\n",
    "alpha=opacity,\n",
    "color='g',\n",
    "label='Women')\n",
    "\n",
    "plt.xlabel('Sports')\n",
    "plt.ylabel('Count')\n",
    "plt.title('Count by sport')\n",
    "plt.xticks(index + bar_width, labels)\n",
    "plt.legend()\n",
    "\n",
    "plt.tight_layout()\n",
    "plt.show()"
   ]
  },
  {
   "cell_type": "code",
   "execution_count": 96,
   "id": "separate-population",
   "metadata": {},
   "outputs": [],
   "source": [
    "srs=df.sample(n=100)"
   ]
  },
  {
   "cell_type": "code",
   "execution_count": 97,
   "id": "derived-sheep",
   "metadata": {},
   "outputs": [
    {
     "data": {
      "text/html": [
       "<div>\n",
       "<style scoped>\n",
       "    .dataframe tbody tr th:only-of-type {\n",
       "        vertical-align: middle;\n",
       "    }\n",
       "\n",
       "    .dataframe tbody tr th {\n",
       "        vertical-align: top;\n",
       "    }\n",
       "\n",
       "    .dataframe thead th {\n",
       "        text-align: right;\n",
       "    }\n",
       "</style>\n",
       "<table border=\"1\" class=\"dataframe\">\n",
       "  <thead>\n",
       "    <tr style=\"text-align: right;\">\n",
       "      <th></th>\n",
       "      <th>gender</th>\n",
       "      <th>race</th>\n",
       "      <th>parental level of education</th>\n",
       "      <th>lunch</th>\n",
       "      <th>test preparation course</th>\n",
       "      <th>math score</th>\n",
       "      <th>reading score</th>\n",
       "      <th>writing score</th>\n",
       "      <th>percentage</th>\n",
       "      <th>grade</th>\n",
       "    </tr>\n",
       "  </thead>\n",
       "  <tbody>\n",
       "    <tr>\n",
       "      <th>396</th>\n",
       "      <td>female</td>\n",
       "      <td>group B</td>\n",
       "      <td>associate's degree</td>\n",
       "      <td>free/reduced</td>\n",
       "      <td>none</td>\n",
       "      <td>157.0</td>\n",
       "      <td>172.0</td>\n",
       "      <td>171.0</td>\n",
       "      <td>66.666667</td>\n",
       "      <td>C</td>\n",
       "    </tr>\n",
       "    <tr>\n",
       "      <th>489</th>\n",
       "      <td>female</td>\n",
       "      <td>group E</td>\n",
       "      <td>associate's degree</td>\n",
       "      <td>free/reduced</td>\n",
       "      <td>none</td>\n",
       "      <td>100.0</td>\n",
       "      <td>187.0</td>\n",
       "      <td>190.0</td>\n",
       "      <td>59.000000</td>\n",
       "      <td>D</td>\n",
       "    </tr>\n",
       "    <tr>\n",
       "      <th>862</th>\n",
       "      <td>male</td>\n",
       "      <td>group C</td>\n",
       "      <td>associate's degree</td>\n",
       "      <td>free/reduced</td>\n",
       "      <td>none</td>\n",
       "      <td>146.0</td>\n",
       "      <td>147.0</td>\n",
       "      <td>146.0</td>\n",
       "      <td>46.333333</td>\n",
       "      <td>D</td>\n",
       "    </tr>\n",
       "    <tr>\n",
       "      <th>409</th>\n",
       "      <td>female</td>\n",
       "      <td>group E</td>\n",
       "      <td>bachelor's degree</td>\n",
       "      <td>free/reduced</td>\n",
       "      <td>none</td>\n",
       "      <td>194.0</td>\n",
       "      <td>189.0</td>\n",
       "      <td>157.0</td>\n",
       "      <td>80.000000</td>\n",
       "      <td>B</td>\n",
       "    </tr>\n",
       "    <tr>\n",
       "      <th>687</th>\n",
       "      <td>female</td>\n",
       "      <td>group C</td>\n",
       "      <td>bachelor's degree</td>\n",
       "      <td>free/reduced</td>\n",
       "      <td>completed</td>\n",
       "      <td>184.0</td>\n",
       "      <td>183.0</td>\n",
       "      <td>181.0</td>\n",
       "      <td>82.666667</td>\n",
       "      <td>A</td>\n",
       "    </tr>\n",
       "    <tr>\n",
       "      <th>...</th>\n",
       "      <td>...</td>\n",
       "      <td>...</td>\n",
       "      <td>...</td>\n",
       "      <td>...</td>\n",
       "      <td>...</td>\n",
       "      <td>...</td>\n",
       "      <td>...</td>\n",
       "      <td>...</td>\n",
       "      <td>...</td>\n",
       "      <td>...</td>\n",
       "    </tr>\n",
       "    <tr>\n",
       "      <th>608</th>\n",
       "      <td>male</td>\n",
       "      <td>group C</td>\n",
       "      <td>master's degree</td>\n",
       "      <td>free/reduced</td>\n",
       "      <td>none</td>\n",
       "      <td>168.0</td>\n",
       "      <td>169.0</td>\n",
       "      <td>170.0</td>\n",
       "      <td>69.000000</td>\n",
       "      <td>C</td>\n",
       "    </tr>\n",
       "    <tr>\n",
       "      <th>566</th>\n",
       "      <td>female</td>\n",
       "      <td>group E</td>\n",
       "      <td>some high school</td>\n",
       "      <td>free/reduced</td>\n",
       "      <td>none</td>\n",
       "      <td>199.0</td>\n",
       "      <td>200.0</td>\n",
       "      <td>200.0</td>\n",
       "      <td>99.666667</td>\n",
       "      <td>S</td>\n",
       "    </tr>\n",
       "    <tr>\n",
       "      <th>239</th>\n",
       "      <td>female</td>\n",
       "      <td>group E</td>\n",
       "      <td>associate's degree</td>\n",
       "      <td>free/reduced</td>\n",
       "      <td>none</td>\n",
       "      <td>191.0</td>\n",
       "      <td>193.0</td>\n",
       "      <td>188.0</td>\n",
       "      <td>90.666667</td>\n",
       "      <td>S</td>\n",
       "    </tr>\n",
       "    <tr>\n",
       "      <th>950</th>\n",
       "      <td>female</td>\n",
       "      <td>group E</td>\n",
       "      <td>associate's degree</td>\n",
       "      <td>free/reduced</td>\n",
       "      <td>none</td>\n",
       "      <td>194.0</td>\n",
       "      <td>178.0</td>\n",
       "      <td>179.0</td>\n",
       "      <td>83.666667</td>\n",
       "      <td>A</td>\n",
       "    </tr>\n",
       "    <tr>\n",
       "      <th>510</th>\n",
       "      <td>female</td>\n",
       "      <td>group E</td>\n",
       "      <td>bachelor's degree</td>\n",
       "      <td>free/reduced</td>\n",
       "      <td>completed</td>\n",
       "      <td>183.0</td>\n",
       "      <td>176.0</td>\n",
       "      <td>181.0</td>\n",
       "      <td>80.000000</td>\n",
       "      <td>B</td>\n",
       "    </tr>\n",
       "  </tbody>\n",
       "</table>\n",
       "<p>100 rows × 10 columns</p>\n",
       "</div>"
      ],
      "text/plain": [
       "     gender     race parental level of education         lunch  \\\n",
       "396  female  group B          associate's degree  free/reduced   \n",
       "489  female  group E          associate's degree  free/reduced   \n",
       "862    male  group C          associate's degree  free/reduced   \n",
       "409  female  group E           bachelor's degree  free/reduced   \n",
       "687  female  group C           bachelor's degree  free/reduced   \n",
       "..      ...      ...                         ...           ...   \n",
       "608    male  group C             master's degree  free/reduced   \n",
       "566  female  group E            some high school  free/reduced   \n",
       "239  female  group E          associate's degree  free/reduced   \n",
       "950  female  group E          associate's degree  free/reduced   \n",
       "510  female  group E           bachelor's degree  free/reduced   \n",
       "\n",
       "    test preparation course  math score  reading score  writing score  \\\n",
       "396                    none       157.0          172.0          171.0   \n",
       "489                    none       100.0          187.0          190.0   \n",
       "862                    none       146.0          147.0          146.0   \n",
       "409                    none       194.0          189.0          157.0   \n",
       "687               completed       184.0          183.0          181.0   \n",
       "..                      ...         ...            ...            ...   \n",
       "608                    none       168.0          169.0          170.0   \n",
       "566                    none       199.0          200.0          200.0   \n",
       "239                    none       191.0          193.0          188.0   \n",
       "950                    none       194.0          178.0          179.0   \n",
       "510               completed       183.0          176.0          181.0   \n",
       "\n",
       "     percentage grade  \n",
       "396   66.666667     C  \n",
       "489   59.000000     D  \n",
       "862   46.333333     D  \n",
       "409   80.000000     B  \n",
       "687   82.666667     A  \n",
       "..          ...   ...  \n",
       "608   69.000000     C  \n",
       "566   99.666667     S  \n",
       "239   90.666667     S  \n",
       "950   83.666667     A  \n",
       "510   80.000000     B  \n",
       "\n",
       "[100 rows x 10 columns]"
      ]
     },
     "execution_count": 97,
     "metadata": {},
     "output_type": "execute_result"
    }
   ],
   "source": [
    "srs"
   ]
  },
  {
   "cell_type": "code",
   "execution_count": 98,
   "id": "spanish-ordinary",
   "metadata": {},
   "outputs": [
    {
     "data": {
      "text/plain": [
       "group E    469\n",
       "group C    266\n",
       "group B    169\n",
       "group A     61\n",
       "group D     29\n",
       "Name: race, dtype: int64"
      ]
     },
     "execution_count": 98,
     "metadata": {},
     "output_type": "execute_result"
    }
   ],
   "source": [
    "df['race'].value_counts()"
   ]
  },
  {
   "cell_type": "code",
   "execution_count": 99,
   "id": "alpha-example",
   "metadata": {},
   "outputs": [],
   "source": [
    "strati=df.groupby('race', group_keys=False).apply(lambda x: x.sample(20))"
   ]
  },
  {
   "cell_type": "code",
   "execution_count": 100,
   "id": "psychological-retention",
   "metadata": {},
   "outputs": [
    {
     "data": {
      "text/html": [
       "<div>\n",
       "<style scoped>\n",
       "    .dataframe tbody tr th:only-of-type {\n",
       "        vertical-align: middle;\n",
       "    }\n",
       "\n",
       "    .dataframe tbody tr th {\n",
       "        vertical-align: top;\n",
       "    }\n",
       "\n",
       "    .dataframe thead th {\n",
       "        text-align: right;\n",
       "    }\n",
       "</style>\n",
       "<table border=\"1\" class=\"dataframe\">\n",
       "  <thead>\n",
       "    <tr style=\"text-align: right;\">\n",
       "      <th></th>\n",
       "      <th>gender</th>\n",
       "      <th>race</th>\n",
       "      <th>parental level of education</th>\n",
       "      <th>lunch</th>\n",
       "      <th>test preparation course</th>\n",
       "      <th>math score</th>\n",
       "      <th>reading score</th>\n",
       "      <th>writing score</th>\n",
       "      <th>percentage</th>\n",
       "      <th>grade</th>\n",
       "    </tr>\n",
       "  </thead>\n",
       "  <tbody>\n",
       "    <tr>\n",
       "      <th>364</th>\n",
       "      <td>female</td>\n",
       "      <td>group A</td>\n",
       "      <td>associate's degree</td>\n",
       "      <td>free/reduced</td>\n",
       "      <td>completed</td>\n",
       "      <td>166.0</td>\n",
       "      <td>165.0</td>\n",
       "      <td>191.0</td>\n",
       "      <td>74.000000</td>\n",
       "      <td>B</td>\n",
       "    </tr>\n",
       "    <tr>\n",
       "      <th>417</th>\n",
       "      <td>female</td>\n",
       "      <td>group A</td>\n",
       "      <td>associate's degree</td>\n",
       "      <td>standard</td>\n",
       "      <td>none</td>\n",
       "      <td>181.0</td>\n",
       "      <td>178.0</td>\n",
       "      <td>175.0</td>\n",
       "      <td>78.000000</td>\n",
       "      <td>B</td>\n",
       "    </tr>\n",
       "    <tr>\n",
       "      <th>918</th>\n",
       "      <td>male</td>\n",
       "      <td>group A</td>\n",
       "      <td>some college</td>\n",
       "      <td>free/reduced</td>\n",
       "      <td>completed</td>\n",
       "      <td>175.0</td>\n",
       "      <td>182.0</td>\n",
       "      <td>188.0</td>\n",
       "      <td>81.666667</td>\n",
       "      <td>A</td>\n",
       "    </tr>\n",
       "    <tr>\n",
       "      <th>762</th>\n",
       "      <td>female</td>\n",
       "      <td>group A</td>\n",
       "      <td>associate's degree</td>\n",
       "      <td>free/reduced</td>\n",
       "      <td>none</td>\n",
       "      <td>185.0</td>\n",
       "      <td>186.0</td>\n",
       "      <td>194.0</td>\n",
       "      <td>88.333333</td>\n",
       "      <td>A</td>\n",
       "    </tr>\n",
       "    <tr>\n",
       "      <th>926</th>\n",
       "      <td>female</td>\n",
       "      <td>group A</td>\n",
       "      <td>some high school</td>\n",
       "      <td>free/reduced</td>\n",
       "      <td>none</td>\n",
       "      <td>171.0</td>\n",
       "      <td>161.0</td>\n",
       "      <td>160.0</td>\n",
       "      <td>64.000000</td>\n",
       "      <td>C</td>\n",
       "    </tr>\n",
       "    <tr>\n",
       "      <th>...</th>\n",
       "      <td>...</td>\n",
       "      <td>...</td>\n",
       "      <td>...</td>\n",
       "      <td>...</td>\n",
       "      <td>...</td>\n",
       "      <td>...</td>\n",
       "      <td>...</td>\n",
       "      <td>...</td>\n",
       "      <td>...</td>\n",
       "      <td>...</td>\n",
       "    </tr>\n",
       "    <tr>\n",
       "      <th>499</th>\n",
       "      <td>female</td>\n",
       "      <td>group E</td>\n",
       "      <td>associate's degree</td>\n",
       "      <td>free/reduced</td>\n",
       "      <td>none</td>\n",
       "      <td>183.0</td>\n",
       "      <td>176.0</td>\n",
       "      <td>180.0</td>\n",
       "      <td>79.666667</td>\n",
       "      <td>B</td>\n",
       "    </tr>\n",
       "    <tr>\n",
       "      <th>336</th>\n",
       "      <td>female</td>\n",
       "      <td>group E</td>\n",
       "      <td>associate's degree</td>\n",
       "      <td>free/reduced</td>\n",
       "      <td>none</td>\n",
       "      <td>183.0</td>\n",
       "      <td>175.0</td>\n",
       "      <td>177.0</td>\n",
       "      <td>78.333333</td>\n",
       "      <td>B</td>\n",
       "    </tr>\n",
       "    <tr>\n",
       "      <th>55</th>\n",
       "      <td>male</td>\n",
       "      <td>group E</td>\n",
       "      <td>master's degree</td>\n",
       "      <td>free/reduced</td>\n",
       "      <td>none</td>\n",
       "      <td>140.0</td>\n",
       "      <td>146.0</td>\n",
       "      <td>151.0</td>\n",
       "      <td>45.666667</td>\n",
       "      <td>D</td>\n",
       "    </tr>\n",
       "    <tr>\n",
       "      <th>333</th>\n",
       "      <td>male</td>\n",
       "      <td>group E</td>\n",
       "      <td>high school</td>\n",
       "      <td>free/reduced</td>\n",
       "      <td>completed</td>\n",
       "      <td>197.0</td>\n",
       "      <td>183.0</td>\n",
       "      <td>189.0</td>\n",
       "      <td>89.666667</td>\n",
       "      <td>A</td>\n",
       "    </tr>\n",
       "    <tr>\n",
       "      <th>908</th>\n",
       "      <td>female</td>\n",
       "      <td>group E</td>\n",
       "      <td>high school</td>\n",
       "      <td>free/reduced</td>\n",
       "      <td>none</td>\n",
       "      <td>174.0</td>\n",
       "      <td>180.0</td>\n",
       "      <td>180.0</td>\n",
       "      <td>78.000000</td>\n",
       "      <td>B</td>\n",
       "    </tr>\n",
       "  </tbody>\n",
       "</table>\n",
       "<p>100 rows × 10 columns</p>\n",
       "</div>"
      ],
      "text/plain": [
       "     gender     race parental level of education         lunch  \\\n",
       "364  female  group A          associate's degree  free/reduced   \n",
       "417  female  group A          associate's degree      standard   \n",
       "918    male  group A                some college  free/reduced   \n",
       "762  female  group A          associate's degree  free/reduced   \n",
       "926  female  group A            some high school  free/reduced   \n",
       "..      ...      ...                         ...           ...   \n",
       "499  female  group E          associate's degree  free/reduced   \n",
       "336  female  group E          associate's degree  free/reduced   \n",
       "55     male  group E             master's degree  free/reduced   \n",
       "333    male  group E                 high school  free/reduced   \n",
       "908  female  group E                 high school  free/reduced   \n",
       "\n",
       "    test preparation course  math score  reading score  writing score  \\\n",
       "364               completed       166.0          165.0          191.0   \n",
       "417                    none       181.0          178.0          175.0   \n",
       "918               completed       175.0          182.0          188.0   \n",
       "762                    none       185.0          186.0          194.0   \n",
       "926                    none       171.0          161.0          160.0   \n",
       "..                      ...         ...            ...            ...   \n",
       "499                    none       183.0          176.0          180.0   \n",
       "336                    none       183.0          175.0          177.0   \n",
       "55                     none       140.0          146.0          151.0   \n",
       "333               completed       197.0          183.0          189.0   \n",
       "908                    none       174.0          180.0          180.0   \n",
       "\n",
       "     percentage grade  \n",
       "364   74.000000     B  \n",
       "417   78.000000     B  \n",
       "918   81.666667     A  \n",
       "762   88.333333     A  \n",
       "926   64.000000     C  \n",
       "..          ...   ...  \n",
       "499   79.666667     B  \n",
       "336   78.333333     B  \n",
       "55    45.666667     D  \n",
       "333   89.666667     A  \n",
       "908   78.000000     B  \n",
       "\n",
       "[100 rows x 10 columns]"
      ]
     },
     "execution_count": 100,
     "metadata": {},
     "output_type": "execute_result"
    }
   ],
   "source": [
    "strati\n"
   ]
  },
  {
   "cell_type": "code",
   "execution_count": 102,
   "id": "hairy-senior",
   "metadata": {},
   "outputs": [],
   "source": [
    "simple_mean=srs['math score'].mean()"
   ]
  },
  {
   "cell_type": "code",
   "execution_count": 103,
   "id": "increasing-serve",
   "metadata": {},
   "outputs": [],
   "source": [
    "strati_mean=strati['math score'].mean()"
   ]
  },
  {
   "cell_type": "code",
   "execution_count": 105,
   "id": "quantitative-sucking",
   "metadata": {},
   "outputs": [
    {
     "data": {
      "text/plain": [
       "168.5"
      ]
     },
     "execution_count": 105,
     "metadata": {},
     "output_type": "execute_result"
    }
   ],
   "source": [
    "simple_mean"
   ]
  },
  {
   "cell_type": "code",
   "execution_count": 106,
   "id": "authentic-renaissance",
   "metadata": {},
   "outputs": [
    {
     "data": {
      "text/plain": [
       "172.72"
      ]
     },
     "execution_count": 106,
     "metadata": {},
     "output_type": "execute_result"
    }
   ],
   "source": [
    "strati_mean"
   ]
  },
  {
   "cell_type": "code",
   "execution_count": 109,
   "id": "wired-prescription",
   "metadata": {},
   "outputs": [
    {
     "name": "stdout",
     "output_type": "stream",
     "text": [
      "2.504036326942469\n",
      "1.71596367305753\n"
     ]
    }
   ],
   "source": [
    "df_mean=df['math score'].mean()\n",
    "print(abs(df_mean-simple_mean))\n",
    "print(abs(df_mean-strati_mean))\n",
    "#error is low in stratified sampling error"
   ]
  },
  {
   "cell_type": "code",
   "execution_count": 115,
   "id": "equipped-lighter",
   "metadata": {},
   "outputs": [
    {
     "data": {
      "image/png": "[encoded data removed]",
      "text/plain": [
       "<Figure size 432x288 with 1 Axes>"
      ]
     },
     "metadata": {
      "needs_background": "light"
     },
     "output_type": "display_data"
    }
   ],
   "source": [
    "srs['race'].hist(histtype='stepfilled', color='red')\n",
    "plt.xlabel('Race')\n",
    "plt.ylabel('Frequency')\n",
    "plt.title('Race distribution sample random')\n",
    "plt.show()"
   ]
  },
  {
   "cell_type": "code",
   "execution_count": 114,
   "id": "streaming-color",
   "metadata": {},
   "outputs": [
    {
     "data": {
      "image/png": "[encoded data removed]",
      "text/plain": [
       "<Figure size 432x288 with 1 Axes>"
      ]
     },
     "metadata": {
      "needs_background": "light"
     },
     "output_type": "display_data"
    }
   ],
   "source": [
    "strati['race'].hist(histtype='stepfilled', color='red')\n",
    "plt.xlabel('Race')\n",
    "plt.ylabel('Frequency')\n",
    "plt.title('Race distribution sample random')\n",
    "plt.show()"
   ]
  },
  {
   "cell_type": "code",
   "execution_count": 116,
   "id": "supposed-century",
   "metadata": {},
   "outputs": [
    {
     "data": {
      "image/png": "[encoded data removed]",
      "text/plain": [
       "<Figure size 432x288 with 1 Axes>"
      ]
     },
     "metadata": {
      "needs_background": "light"
     },
     "output_type": "display_data"
    }
   ],
   "source": [
    "df['race'].hist(histtype='stepfilled', color='red')\n",
    "plt.xlabel('race')\n",
    "plt.ylabel('Frequency')\n",
    "plt.title('Race distribution sample random')\n",
    "plt.show()"
   ]
  },
  {
   "cell_type": "code",
   "execution_count": 120,
   "id": "convenient-buddy",
   "metadata": {},
   "outputs": [
    {
     "data": {
      "image/png": "[encoded data removed]",
      "text/plain": [
       "<Figure size 432x288 with 1 Axes>"
      ]
     },
     "metadata": {
      "needs_background": "light"
     },
     "output_type": "display_data"
    }
   ],
   "source": [
    "gam=df[df['race']=='group A']['math score']\n",
    "gbm=df[df['race']=='group B']['math score']\n",
    "gcm=df[df['race']=='group C']['math score']\n",
    "gdm=df[df['race']=='group D']['math score']\n",
    "gem=df[df['race']=='group E']['math score']\n",
    "values=[gam,gbm,gcm,gdm,gem]\n",
    "plt.boxplot(values, vert=False,labels=['group A','group B','group C','group D','group E'])   \n",
    "plt.show()"
   ]
  },
  {
   "cell_type": "code",
   "execution_count": 121,
   "id": "consolidated-symbol",
   "metadata": {},
   "outputs": [
    {
     "data": {
      "image/png": "[encoded data removed]",
      "text/plain": [
       "<Figure size 432x288 with 1 Axes>"
      ]
     },
     "metadata": {
      "needs_background": "light"
     },
     "output_type": "display_data"
    }
   ],
   "source": [
    "gaw=df[df['race']=='group A']['writing score']\n",
    "gbw=df[df['race']=='group B']['writing score']\n",
    "gcw=df[df['race']=='group C']['writing score']\n",
    "gdw=df[df['race']=='group D']['writing score']\n",
    "gew=df[df['race']=='group E']['writing score']\n",
    "values1=[gaw,gbw,gcw,gdw,gew]\n",
    "plt.boxplot(values1, vert=False,labels=['group A','group B','group C','group D','group E'])   \n",
    "plt.show()"
   ]
  },
  {
   "cell_type": "code",
   "execution_count": 122,
   "id": "cardiac-dollar",
   "metadata": {},
   "outputs": [
    {
     "data": {
      "image/png": "[encoded data removed]",
      "text/plain": [
       "<Figure size 432x288 with 1 Axes>"
      ]
     },
     "metadata": {
      "needs_background": "light"
     },
     "output_type": "display_data"
    }
   ],
   "source": [
    "gar=df[df['race']=='group A']['reading score']\n",
    "gbr=df[df['race']=='group B']['reading score']\n",
    "gcr=df[df['race']=='group C']['reading score']\n",
    "gdr=df[df['race']=='group D']['reading score']\n",
    "ger=df[df['race']=='group E']['reading score']\n",
    "values=[gar,gbr,gcr,gdr,ger]\n",
    "plt.boxplot(values, vert=False,labels=['group A','group B','group C','group D','group E'])   \n",
    "plt.show()"
   ]
  },
  {
   "cell_type": "code",
   "execution_count": 123,
   "id": "official-denial",
   "metadata": {},
   "outputs": [],
   "source": [
    "male=df[df['gender']=='male']['parental level of education']\n",
    "female=df[df['gender']=='female']['parental level of education']"
   ]
  },
  {
   "cell_type": "code",
   "execution_count": 132,
   "id": "olive-above",
   "metadata": {},
   "outputs": [],
   "source": [
    "male_counts = male.value_counts(normalize=True)"
   ]
  },
  {
   "cell_type": "code",
   "execution_count": 133,
   "id": "passing-conditioning",
   "metadata": {},
   "outputs": [],
   "source": [
    "female_count=female.value_counts(normalize=True)"
   ]
  },
  {
   "cell_type": "code",
   "execution_count": 137,
   "id": "hourly-stomach",
   "metadata": {},
   "outputs": [],
   "source": [
    "male_counts=male_counts*100"
   ]
  },
  {
   "cell_type": "code",
   "execution_count": 138,
   "id": "scheduled-register",
   "metadata": {},
   "outputs": [],
   "source": [
    "female_count=female_count*100"
   ]
  },
  {
   "cell_type": "code",
   "execution_count": 141,
   "id": "guided-consideration",
   "metadata": {},
   "outputs": [],
   "source": [
    "mc=list(male_counts)\n",
    "fc=list(female_count)"
   ]
  },
  {
   "cell_type": "code",
   "execution_count": 143,
   "id": "neither-religion",
   "metadata": {},
   "outputs": [],
   "source": [
    "ln=(range(1,len(mc)+1))"
   ]
  },
  {
   "cell_type": "code",
   "execution_count": 144,
   "id": "previous-psychiatry",
   "metadata": {},
   "outputs": [
    {
     "data": {
      "text/plain": [
       "range(1, 7)"
      ]
     },
     "execution_count": 144,
     "metadata": {},
     "output_type": "execute_result"
    }
   ],
   "source": [
    "ln\n"
   ]
  },
  {
   "cell_type": "code",
   "execution_count": 145,
   "id": "mental-combining",
   "metadata": {},
   "outputs": [
    {
     "data": {
      "text/plain": [
       "6"
      ]
     },
     "execution_count": 145,
     "metadata": {},
     "output_type": "execute_result"
    }
   ],
   "source": [
    "len(mc)"
   ]
  },
  {
   "cell_type": "code",
   "execution_count": 146,
   "id": "universal-labor",
   "metadata": {},
   "outputs": [
    {
     "data": {
      "text/plain": [
       "6"
      ]
     },
     "execution_count": 146,
     "metadata": {},
     "output_type": "execute_result"
    }
   ],
   "source": [
    "len(fc)"
   ]
  },
  {
   "cell_type": "code",
   "execution_count": 147,
   "id": "convertible-adolescent",
   "metadata": {},
   "outputs": [
    {
     "data": {
      "text/plain": [
       "associate's degree    50.295858\n",
       "bachelor's degree     15.680473\n",
       "high school           15.384615\n",
       "some high school      10.355030\n",
       "master's degree        5.621302\n",
       "some college           2.662722\n",
       "Name: parental level of education, dtype: float64"
      ]
     },
     "execution_count": 147,
     "metadata": {},
     "output_type": "execute_result"
    }
   ],
   "source": [
    "male_counts\n"
   ]
  },
  {
   "cell_type": "code",
   "execution_count": 148,
   "id": "treated-sleeping",
   "metadata": {},
   "outputs": [],
   "source": [
    "labels=['associate\\'s degree','bachelor\\'s degree','high school','some high school','master\\'s degree','some college']"
   ]
  },
  {
   "cell_type": "code",
   "execution_count": 158,
   "id": "velvet-concrete",
   "metadata": {},
   "outputs": [
    {
     "data": {
      "image/png": "[encoded data removed]",
      "text/plain": [
       "<Figure size 432x288 with 1 Axes>"
      ]
     },
     "metadata": {
      "needs_background": "light"
     },
     "output_type": "display_data"
    }
   ],
   "source": [
    "barWidth = 0.25\n",
    "r1=np.arange(len(mc))\n",
    "r2=[x+barWidth for x in r1]\n",
    "plt.bar(r1, mc, color='blue', width=barWidth, edgecolor='white', label='male')\n",
    "plt.bar(r2, fc, color='red', width=barWidth, edgecolor='white', label='female')\n",
    "plt.xlabel('Degrees', fontweight='bold')\n",
    "plt.ylabel('Percentage%',fontweight='bold')\n",
    "plt.title('Parental level of education based on gender')\n",
    "plt.xticks([r + barWidth for r in range(len(mc))], labels,rotation=45)\n",
    "plt.legend()\n",
    "plt.show()"
   ]
  },
  {
   "cell_type": "code",
   "execution_count": null,
   "id": "interracial-highlight",
   "metadata": {},
   "outputs": [],
   "source": []
  }
 ],
 "metadata": {
  "kernelspec": {
   "display_name": "Python 3",
   "language": "python",
   "name": "python3"
  },
  "language_info": {
   "codemirror_mode": {
    "name": "ipython",
    "version": 3
   },
   "file_extension": ".py",
   "mimetype": "text/x-python",
   "name": "python",
   "nbconvert_exporter": "python",
   "pygments_lexer": "ipython3",
   "version": "3.9.8"
  }
 },
 "nbformat": 4,
 "nbformat_minor": 5
}
